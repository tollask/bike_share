{
 "cells": [
  {
   "cell_type": "code",
   "execution_count": 1,
   "metadata": {},
   "outputs": [],
   "source": [
    "from pyspark.sql.types import *\n",
    "from datetime import datetime\n",
    "\n",
    "INPUT_DATA = '../data/sf-bay-area-bike-share/'"
   ]
  },
  {
   "cell_type": "code",
   "execution_count": 2,
   "metadata": {},
   "outputs": [
    {
     "name": "stdout",
     "output_type": "stream",
     "text": [
      "station_id,bikes_available,docks_available,time\r\n",
      "2,2,25,2013/08/29 12:06:01\r\n",
      "2,2,25,2013/08/29 12:07:01\r\n",
      "2,2,25,2013/08/29 12:08:01\r\n",
      "2,2,25,2013/08/29 12:09:01\r\n",
      "2,2,25,2013/08/29 12:10:01\r\n",
      "2,2,25,2013/08/29 12:11:01\r\n",
      "2,2,25,2013/08/29 12:12:01\r\n",
      "2,2,25,2013/08/29 12:13:01\r\n",
      "2,2,25,2013/08/29 12:15:01\r\n"
     ]
    }
   ],
   "source": [
    "!head {INPUT_DATA}status.csv"
   ]
  },
  {
   "cell_type": "code",
   "execution_count": 3,
   "metadata": {},
   "outputs": [
    {
     "name": "stdout",
     "output_type": "stream",
     "text": [
      "id,name,lat,long,dock_count,city,installation_date\r\n",
      "2,San Jose Diridon Caltrain Station,37.329732,-121.90178200000001,27,San Jose,8/6/2013\r\n",
      "3,San Jose Civic Center,37.330698,-121.888979,15,San Jose,8/5/2013\r\n",
      "4,Santa Clara at Almaden,37.333988,-121.894902,11,San Jose,8/6/2013\r\n",
      "5,Adobe on Almaden,37.331415,-121.8932,19,San Jose,8/5/2013\r\n",
      "6,San Pedro Square,37.336721000000004,-121.894074,15,San Jose,8/7/2013\r\n",
      "7,Paseo de San Antonio,37.333798,-121.88694299999999,15,San Jose,8/7/2013\r\n",
      "8,San Salvador at 1st,37.330165,-121.88583100000001,15,San Jose,8/5/2013\r\n",
      "9,Japantown,37.348742,-121.89471499999999,15,San Jose,8/5/2013\r\n",
      "10,San Jose City Hall,37.337391,-121.886995,15,San Jose,8/6/2013\r\n"
     ]
    }
   ],
   "source": [
    "!head {INPUT_DATA}station.csv"
   ]
  },
  {
   "cell_type": "code",
   "execution_count": 4,
   "metadata": {},
   "outputs": [
    {
     "data": {
      "text/plain": [
       "[[u'2', u'2', u'25', u'2013/08/29 12:06:01'],\n",
       " [u'2', u'2', u'25', u'2013/08/29 12:07:01'],\n",
       " [u'2', u'2', u'25', u'2013/08/29 12:08:01']]"
      ]
     },
     "execution_count": 4,
     "metadata": {},
     "output_type": "execute_result"
    }
   ],
   "source": [
    "bike_status = sc.textFile(INPUT_DATA + 'status.csv').cache()\n",
    "header = bike_status.first()\n",
    "bike_status = bike_status.filter(lambda x: x != header).map(lambda x: x.split(',')).cache()\n",
    "bike_status.take(3)"
   ]
  },
  {
   "cell_type": "code",
   "execution_count": 5,
   "metadata": {},
   "outputs": [
    {
     "data": {
      "text/plain": [
       "71984434"
      ]
     },
     "execution_count": 5,
     "metadata": {},
     "output_type": "execute_result"
    }
   ],
   "source": [
    "bike_status.count()"
   ]
  },
  {
   "cell_type": "code",
   "execution_count": 6,
   "metadata": {},
   "outputs": [],
   "source": [
    "test_ts = bike_status.take(1)[-1][-1]\n",
    "dt = datetime.strptime(test_ts, \"%Y/%m/%d %H:%M:%S\")"
   ]
  },
  {
   "cell_type": "code",
   "execution_count": 18,
   "metadata": {},
   "outputs": [],
   "source": [
    "def toIntSafe(num):\n",
    "    try:\n",
    "        return int(num)\n",
    "    except ValueError:\n",
    "        return None\n",
    "    \n",
    "def toFloatSafe(num):\n",
    "    try:\n",
    "        return float(num)\n",
    "    except ValueError:\n",
    "        return None    \n",
    "    \n",
    "def toTimeStampSafe(data):\n",
    "    try:\n",
    "        return datetime.strptime(data, \"%Y/%m/%d %H:%M:%S\") \n",
    "    except ValueError:\n",
    "        return None\n",
    "    \n",
    "def convertData(data):\n",
    "    return (toIntSafe(data[0]),\n",
    "            toIntSafe(data[1]),\n",
    "            toIntSafe(data[2]),\n",
    "            toTimeStampSafe(data[3]))\n",
    "\n",
    "def preprocess_data(data):\n",
    "    try:\n",
    "        return (data[0], (data[2]*1.0)/(data[1] + data[2]), data[3].year,\n",
    "            data[3].month, data[3].day, data[3].hour, data[3].minute, data[3].isoweekday())\n",
    "    except (AttributeError, ValueError, ZeroDivisionError):\n",
    "        return None\n",
    "\n",
    "bike_status_processed = bike_status.map(lambda x:\n",
    "                                        convertData(x)).map(lambda x:preprocess_data(x)).filter(lambda x: x != None).cache()"
   ]
  },
  {
   "cell_type": "code",
   "execution_count": 19,
   "metadata": {},
   "outputs": [
    {
     "data": {
      "text/plain": [
       "16994602"
      ]
     },
     "execution_count": 19,
     "metadata": {},
     "output_type": "execute_result"
    }
   ],
   "source": [
    "bike_status_processed.count()"
   ]
  },
  {
   "cell_type": "code",
   "execution_count": 20,
   "metadata": {},
   "outputs": [
    {
     "data": {
      "text/plain": [
       "[(2, 0.9259259259259259, 2013, 8, 29, 12, 6, 4),\n",
       " (2, 0.9259259259259259, 2013, 8, 29, 12, 7, 4),\n",
       " (2, 0.9259259259259259, 2013, 8, 29, 12, 8, 4)]"
      ]
     },
     "execution_count": 20,
     "metadata": {},
     "output_type": "execute_result"
    }
   ],
   "source": [
    "bike_status_processed.take(3)"
   ]
  },
  {
   "cell_type": "code",
   "execution_count": 21,
   "metadata": {},
   "outputs": [],
   "source": [
    "bike_status_schema = StructType([StructField('station_id', IntegerType(),False),\n",
    "                                StructField('bikes_utilised_percentage', FloatType(),False),\n",
    "                                StructField('year', IntegerType(), False),\n",
    "                                StructField('month', IntegerType(), False),\n",
    "                                StructField('day', IntegerType(), False),\n",
    "                                StructField('hour', IntegerType(), False),\n",
    "                                StructField('minute', IntegerType(), False),\n",
    "                                StructField('day_of_week', IntegerType(), False)])"
   ]
  },
  {
   "cell_type": "code",
   "execution_count": 22,
   "metadata": {},
   "outputs": [
    {
     "name": "stdout",
     "output_type": "stream",
     "text": [
      "+----------+-------------------------+----+-----+---+----+------+-----------+\n",
      "|station_id|bikes_utilised_percentage|year|month|day|hour|minute|day_of_week|\n",
      "+----------+-------------------------+----+-----+---+----+------+-----------+\n",
      "|         2|                0.9259259|2013|    8| 29|  12|     6|          4|\n",
      "|         2|                0.9259259|2013|    8| 29|  12|     7|          4|\n",
      "|         2|                0.9259259|2013|    8| 29|  12|     8|          4|\n",
      "|         2|                0.9259259|2013|    8| 29|  12|     9|          4|\n",
      "|         2|                0.9259259|2013|    8| 29|  12|    10|          4|\n",
      "+----------+-------------------------+----+-----+---+----+------+-----------+\n",
      "only showing top 5 rows\n",
      "\n"
     ]
    }
   ],
   "source": [
    "bike_status_df = sqlContext.createDataFrame(bike_status_processed, bike_status_schema).cache()\n",
    "bike_status_df.show(5)"
   ]
  },
  {
   "cell_type": "code",
   "execution_count": 23,
   "metadata": {},
   "outputs": [
    {
     "data": {
      "text/plain": [
       "16994602"
      ]
     },
     "execution_count": 23,
     "metadata": {},
     "output_type": "execute_result"
    }
   ],
   "source": [
    "bike_status_df.count()"
   ]
  },
  {
   "cell_type": "code",
   "execution_count": 24,
   "metadata": {},
   "outputs": [
    {
     "name": "stdout",
     "output_type": "stream",
     "text": [
      "root\n",
      " |-- station_id: integer (nullable = false)\n",
      " |-- bikes_utilised_percentage: float (nullable = false)\n",
      " |-- year: integer (nullable = false)\n",
      " |-- month: integer (nullable = false)\n",
      " |-- day: integer (nullable = false)\n",
      " |-- hour: integer (nullable = false)\n",
      " |-- minute: integer (nullable = false)\n",
      " |-- day_of_week: integer (nullable = false)\n",
      "\n"
     ]
    }
   ],
   "source": [
    "bike_status_df.printSchema()"
   ]
  },
  {
   "cell_type": "code",
   "execution_count": 25,
   "metadata": {},
   "outputs": [
    {
     "name": "stdout",
     "output_type": "stream",
     "text": [
      "+----------+-------------------------+----+-----+---+----+------+-----------+--------+\n",
      "|station_id|bikes_utilised_percentage|year|month|day|hour|minute|day_of_week|day_part|\n",
      "+----------+-------------------------+----+-----+---+----+------+-----------+--------+\n",
      "|         2|                0.9259259|2013|    8| 29|  12|     6|          4| morning|\n",
      "|         2|                0.9259259|2013|    8| 29|  12|     7|          4| morning|\n",
      "|         2|                0.9259259|2013|    8| 29|  12|     8|          4| morning|\n",
      "|         2|                0.9259259|2013|    8| 29|  12|     9|          4| morning|\n",
      "|         2|                0.9259259|2013|    8| 29|  12|    10|          4| morning|\n",
      "+----------+-------------------------+----+-----+---+----+------+-----------+--------+\n",
      "only showing top 5 rows\n",
      "\n"
     ]
    }
   ],
   "source": [
    "from pyspark.sql import functions as F\n",
    "\n",
    "bike_status_period = bike_status_df.withColumn('day_part',\n",
    "                                               F.when((bike_status_df.hour > 20) | (bike_status_df.hour < 6), 'night').\\\n",
    "                                               when((bike_status_df.hour >= 6) | (bike_status_df.hour < 12), 'morning').\\\n",
    "                                               when((bike_status_df.hour >= 12) | (bike_status_df.hour < 16), 'afternoon').\\\n",
    "                                               otherwise('evening')).cache()\n",
    "\n",
    "bike_status_period.show(5)"
   ]
  },
  {
   "cell_type": "code",
   "execution_count": 26,
   "metadata": {},
   "outputs": [
    {
     "data": {
      "text/plain": [
       "16994602"
      ]
     },
     "execution_count": 26,
     "metadata": {},
     "output_type": "execute_result"
    }
   ],
   "source": [
    "bike_status_period.count()"
   ]
  },
  {
   "cell_type": "code",
   "execution_count": 27,
   "metadata": {},
   "outputs": [
    {
     "name": "stdout",
     "output_type": "stream",
     "text": [
      "+----------+-----------+--------+------------------------------+\n",
      "|station_id|day_of_week|day_part|avg(bikes_utilised_percentage)|\n",
      "+----------+-----------+--------+------------------------------+\n",
      "|         3|          4| morning|             0.476191698166655|\n",
      "|         5|          6| morning|            0.5208970950011149|\n",
      "|        16|          6|   night|           0.44569035081145614|\n",
      "|        22|          7|   night|            0.5165870176005278|\n",
      "|        30|          1|   night|           0.44265937086872764|\n",
      "+----------+-----------+--------+------------------------------+\n",
      "only showing top 5 rows\n",
      "\n"
     ]
    }
   ],
   "source": [
    "daily_avg = bike_status_period.select('station_id', 'day_of_week', 'day_part', 'bikes_utilised_percentage').\\\n",
    "                                   groupBy('station_id', 'day_of_week', 'day_part').mean('bikes_utilised_percentage')\n",
    "    \n",
    "daily_avg.show(5)"
   ]
  },
  {
   "cell_type": "code",
   "execution_count": 29,
   "metadata": {},
   "outputs": [
    {
     "data": {
      "text/plain": [
       "966"
      ]
     },
     "execution_count": 29,
     "metadata": {},
     "output_type": "execute_result"
    }
   ],
   "source": [
    "daily_avg.cache()\n",
    "daily_avg.count()"
   ]
  },
  {
   "cell_type": "code",
   "execution_count": 30,
   "metadata": {},
   "outputs": [
    {
     "data": {
      "text/plain": [
       "69"
      ]
     },
     "execution_count": 30,
     "metadata": {},
     "output_type": "execute_result"
    }
   ],
   "source": [
    "daily_avg.select('station_id').distinct().count()"
   ]
  },
  {
   "cell_type": "code",
   "execution_count": null,
   "metadata": {},
   "outputs": [],
   "source": []
  }
 ],
 "metadata": {
  "kernelspec": {
   "display_name": "Python 2",
   "language": "python",
   "name": "python2"
  },
  "language_info": {
   "codemirror_mode": {
    "name": "ipython",
    "version": 2
   },
   "file_extension": ".py",
   "mimetype": "text/x-python",
   "name": "python",
   "nbconvert_exporter": "python",
   "pygments_lexer": "ipython2",
   "version": "2.7.12"
  }
 },
 "nbformat": 4,
 "nbformat_minor": 2
}
